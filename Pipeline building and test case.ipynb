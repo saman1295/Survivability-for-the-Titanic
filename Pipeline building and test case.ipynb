{
 "cells": [
  {
   "cell_type": "code",
   "execution_count": 1,
   "metadata": {},
   "outputs": [
    {
     "name": "stderr",
     "output_type": "stream",
     "text": [
      "/var/folders/jn/4d8cktsj6bbczt13bht5my680000gn/T/ipykernel_7958/2192515934.py:9: DeprecationWarning: `magic(...)` is deprecated since IPython 0.13 (warning added in 8.1), use run_line_magic(magic_name, parameter_s).\n",
      "  ipython.magic(\"sx wget https://cdn.iiith.talentsprint.com/aiml/Experiment_related_data/titanic.csv\")\n",
      "/var/folders/jn/4d8cktsj6bbczt13bht5my680000gn/T/ipykernel_7958/2192515934.py:10: DeprecationWarning: `magic(...)` is deprecated since IPython 0.13 (warning added in 8.1), use run_line_magic(magic_name, parameter_s).\n",
      "  ipython.magic(\"sx wget https://cdn.iiith.talentsprint.com/aiml/Experiment_related_data/test_titanic.csv\")\n"
     ]
    },
    {
     "name": "stdout",
     "output_type": "stream",
     "text": [
      "Data downloaded successfully\n"
     ]
    }
   ],
   "source": [
    "from IPython import get_ipython\n",
    "\n",
    "ipython = get_ipython()\n",
    "\n",
    "notebook=\"U1_MH1_Data_Munging\" #name of the notebook\n",
    "\n",
    "def setup():\n",
    "    from IPython.display import HTML, display\n",
    "    ipython.magic(\"sx wget https://cdn.iiith.talentsprint.com/aiml/Experiment_related_data/titanic.csv\")\n",
    "    ipython.magic(\"sx wget https://cdn.iiith.talentsprint.com/aiml/Experiment_related_data/test_titanic.csv\")\n",
    "    print(\"Data downloaded successfully\")\n",
    "    return\n",
    "\n",
    "setup()"
   ]
  },
  {
   "cell_type": "code",
   "execution_count": 3,
   "metadata": {},
   "outputs": [],
   "source": [
    "import re\n",
    "import pandas as pd\n",
    "import numpy as np\n",
    "from sklearn.model_selection import train_test_split\n",
    "from sklearn.metrics import accuracy_score\n",
    "from sklearn.preprocessing import StandardScaler\n",
    "from sklearn.ensemble import RandomForestClassifier\n",
    "import matplotlib.pyplot as plt\n",
    "# to persist the model and the scaler\n",
    "import joblib\n",
    "from typing import List\n",
    "# import for pipeline\n",
    "from sklearn.pipeline import Pipeline\n",
    "# for the preprocessors\n",
    "from sklearn.base import BaseEstimator, TransformerMixin"
   ]
  },
  {
   "cell_type": "code",
   "execution_count": null,
   "metadata": {},
   "outputs": [],
   "source": [
    "## PIPELINE setup for imputation, feature mapping and EDA\n",
    "\n",
    "class embarkImputer(BaseEstimator,TransformerMixin):\n",
    "    \n",
    "    def __init__(self, variables: str):\n",
    "        if not isinstance(variables, str):\n",
    "            raise ValueError('variable not a string')\n",
    "        self.variables = variables\n",
    "    \n",
    "    def fit(self, X: pd.DataFrame, y: pd.Series = None):\n",
    "        self.fill_value = X[self.variables].mode()[0]\n",
    "\n",
    "    def transform(self, X: pd.DataFrame) -> pd.DataFrame:\n",
    "\n",
    "        X = X.copy()\n",
    "        X[self.variables] = X[self.variables].fillna(self.fill_value)\n",
    "\n",
    "        return X"
   ]
  },
  {
   "cell_type": "code",
   "execution_count": null,
   "metadata": {},
   "outputs": [],
   "source": [
    "## Building Pipeline:\n",
    "\n",
    "titanic_pipe = Pipeline([\n",
    "    ('embark_imputation',embarkImputer(variables = 'Embarked')),\n",
    "    ('map_sex',Mapper('Sex',{'female': 0, 'male': 1}))\n",
    "    # keep adding the steps you wish to perform\n",
    "])"
   ]
  },
  {
   "cell_type": "code",
   "execution_count": null,
   "metadata": {},
   "outputs": [],
   "source": [
    "## using the pipeline to fit model and predict\n",
    "\n",
    "titanic_pipe.fir(X_train, y_train)\n",
    "y_pred = titanic_pipe.predict(X_test)\n",
    "print('Accuracy (in %): ',accuracy_score(y_test, y_pred)* 100)\n",
    "\n",
    "# dumping model \n",
    "joblib.dump(titanic_pipe, 'titanic_pipe.joblib')"
   ]
  }
 ],
 "metadata": {
  "kernelspec": {
   "display_name": ".venv",
   "language": "python",
   "name": "python3"
  },
  "language_info": {
   "codemirror_mode": {
    "name": "ipython",
    "version": 3
   },
   "file_extension": ".py",
   "mimetype": "text/x-python",
   "name": "python",
   "nbconvert_exporter": "python",
   "pygments_lexer": "ipython3",
   "version": "3.10.2"
  },
  "orig_nbformat": 4
 },
 "nbformat": 4,
 "nbformat_minor": 2
}
